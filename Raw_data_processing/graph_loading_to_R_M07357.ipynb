{
 "cells": [
  {
   "cell_type": "markdown",
   "id": "ee4ef114-c2d8-4d26-9a9a-4232685a53d4",
   "metadata": {},
   "source": [
    "# Load pkl file and output graphs for further analysis in R, this file is for M07357 analysis, see its eigenvectors\n",
    "1. Extract the matrix from an ECR results pickle file\n",
    "2. Correct the matrix by removing connections that are likely incorrect"
   ]
  },
  {
   "cell_type": "code",
   "execution_count": 1,
   "id": "782f5226-5205-49a1-8da8-94517b85bf6b",
   "metadata": {},
   "outputs": [
    {
     "data": {
      "text/plain": [
       "<contextlib.ExitStack at 0x7f31f452ec20>"
      ]
     },
     "execution_count": 1,
     "metadata": {},
     "output_type": "execute_result"
    }
   ],
   "source": [
    "import numpy as np\n",
    "import pickle as pkl\n",
    "import pandas as pd\n",
    "from pprint import pprint\n",
    "import os\n",
    "import matplotlib\n",
    "import matplotlib.pyplot as plt\n",
    "import glob\n",
    "\n",
    "plt.ion()"
   ]
  },
  {
   "cell_type": "code",
   "execution_count": 9,
   "id": "639839e2",
   "metadata": {},
   "outputs": [
    {
     "name": "stdout",
     "output_type": "stream",
     "text": [
      "\u001b[0m\u001b[01;34manalysis\u001b[0m/  data.raw.h5  mxassay.metadata  mxassay.results\n"
     ]
    }
   ],
   "source": [
    "ls /cis/project/organoid/May_31_2025/250314/misc/M07357/Network/000389"
   ]
  },
  {
   "cell_type": "code",
   "execution_count": 10,
   "id": "d497ca12",
   "metadata": {},
   "outputs": [
    {
     "name": "stdout",
     "output_type": "stream",
     "text": [
      "\u001b[0m\u001b[01;34manalysis\u001b[0m/  data.raw.h5  mxassay.metadata  mxassay.results\n"
     ]
    }
   ],
   "source": [
    "ls /cis/project/organoid/Aug_25_2025_Mo7357/Network/000389/"
   ]
  },
  {
   "cell_type": "code",
   "execution_count": 1,
   "id": "2d748d09",
   "metadata": {},
   "outputs": [
    {
     "name": "stdout",
     "output_type": "stream",
     "text": [
      "\u001b[0m\u001b[01;34m'2024May28 No window data '\u001b[0m/\n",
      " \u001b[01;34m3_org_stim_vs_1_organoid\u001b[0m/\n",
      "\u001b[01;34m'April 19 2024'\u001b[0m/\n",
      " \u001b[01;34mAug_25_2025_Mo7357\u001b[0m/\n",
      " \u001b[01;34mAug_25_2025_Mo7357_ecr_results_no_window\u001b[0m/\n",
      " \u001b[01;34mAug_28_2025_Mo7357_ecr_results_no_window_try2\u001b[0m/\n",
      " \u001b[01;34mAug_29_2025_Mo7357_ecr_results_no_window_para2\u001b[0m/\n",
      " \u001b[01;34mDec_10_2024\u001b[0m/\n",
      " \u001b[01;34mDec_10_2024_ecr_results_no_window\u001b[0m/\n",
      " \u001b[01;34mDec_10_2024_ecr_results_tuning_exp\u001b[0m/\n",
      " \u001b[01;34mDec_29_2024_ecr_results\u001b[0m/\n",
      "\u001b[01;34m'March 30 2024'\u001b[0m/\n",
      " \u001b[01;34mMay_31_2025\u001b[0m/\n",
      " \u001b[01;34mMay_31_2025_ecr_results_no_window\u001b[0m/\n",
      " \u001b[01;34mNov_18_2024\u001b[0m/\n",
      " \u001b[01;34mNov_18_2024_ecr_results3_no_window\u001b[0m/\n",
      " \u001b[01;34mNov_18_2024_ecr_results_for_tuning\u001b[0m/\n",
      " \u001b[01;34mSep_1_2025_Mo7357_ecr_results_no_window_para3\u001b[0m/\n",
      " \u001b[01;34mSep_1_2025_Mo7357_ecr_results_window_para1\u001b[0m/\n"
     ]
    }
   ],
   "source": [
    "ls /cis/project/organoid/"
   ]
  },
  {
   "cell_type": "markdown",
   "id": "60e2b469",
   "metadata": {},
   "source": [
    "### copy the other M07357( which is in the MO vs SO dataset) recording to the new M07357 folder"
   ]
  },
  {
   "cell_type": "markdown",
   "id": "9fea62e9",
   "metadata": {},
   "source": [
    "import shutil\n",
    "import os\n",
    "source_dir = \"/cis/project/organoid/May_31_2025/250314/misc/M07357/Network/000389\"\n",
    "dest_dir = \"/cis/project/organoid/Aug_25_2025_Mo7357/Network/\"\n",
    "\n",
    "try:\n",
    "    # Use shutil.copytree to recursively copy the directory\n",
    "    shutil.copytree(source_dir, os.path.join(dest_dir, \"000389\"))\n",
    "    print(f\"Successfully copied folder to {dest_dir}\")\n",
    "\n",
    "except FileExistsError:\n",
    "    print(f\"Error: A folder named '000389' already exists in the destination.\")\n",
    "except Exception as e:\n",
    "    print(f\"An error occurred: {e}\")"
   ]
  },
  {
   "cell_type": "code",
   "execution_count": 4,
   "id": "cea0e2a3",
   "metadata": {},
   "outputs": [
    {
     "name": "stdout",
     "output_type": "stream",
     "text": [
      "Found 3 pkl files to process.\n"
     ]
    },
    {
     "data": {
      "text/plain": [
       "['/Network/000389/data.raw_20250829_10h42m.pkl',\n",
       " '/Network/000145/data.raw_20250829_10h42m.pkl',\n",
       " '/Network/000143/data.raw_20250829_10h42m.pkl']"
      ]
     },
     "execution_count": 4,
     "metadata": {},
     "output_type": "execute_result"
    }
   ],
   "source": [
    "\n",
    "# Path of source .pkl result files\n",
    "#path_source_files = '/cis/project/organoid/Aug_25_2025_Mo7357_ecr_results_no_window'\n",
    "#path_source_files = '/cis/project/organoid/Aug_28_2025_Mo7357_ecr_results_no_window_try2'\n",
    "path_source_files = '/cis/project/organoid/Aug_29_2025_Mo7357_ecr_results_no_window_para2'\n",
    "\n",
    "# Get a list of files that we'll analyze (pkl files in the source directory or its subdirectories)\n",
    "filenames = glob.glob(f'{path_source_files}/**/*.pkl', recursive=True)\n",
    "n_chars = len(path_source_files)\n",
    "filenames = [f[n_chars:] for f in filenames]\n",
    "filenames.sort()\n",
    "filenames.reverse()\n",
    "\n",
    "print(f'Found {len(filenames)} pkl files to process.')\n",
    "filenames"
   ]
  },
  {
   "cell_type": "code",
   "execution_count": 5,
   "id": "380af331",
   "metadata": {},
   "outputs": [
    {
     "data": {
      "text/plain": [
       "['/cis/project/organoid/Aug_29_2025_Mo7357_ecr_results_no_window_para2/Network/000389/data.raw_20250829_10h42m.pkl',\n",
       " '/cis/project/organoid/Aug_29_2025_Mo7357_ecr_results_no_window_para2/Network/000145/data.raw_20250829_10h42m.pkl',\n",
       " '/cis/project/organoid/Aug_29_2025_Mo7357_ecr_results_no_window_para2/Network/000143/data.raw_20250829_10h42m.pkl']"
      ]
     },
     "execution_count": 5,
     "metadata": {},
     "output_type": "execute_result"
    }
   ],
   "source": [
    "filenames = [os.path.join(path_source_files, filename.lstrip('/')) for filename in filenames]\n",
    "filenames"
   ]
  },
  {
   "cell_type": "code",
   "execution_count": 6,
   "id": "2b5d8e1a",
   "metadata": {},
   "outputs": [],
   "source": [
    "def filter_matrix_TC(data, well):\n",
    "\n",
    "    # Extract necessary data from the loaded data structure\n",
    "    adj_matrix = data[well]['win_0']['adj_matrix_predicted']\n",
    "    votes = data[well]['win_0']['votes']  # This variable is loaded but not used in the snippet you provided\n",
    "    corr_peaks = data[well]['win_0']['corr_peaks']\n",
    "    fs = data['config']['data']['fs']  # Sampling frequency\n",
    "\n",
    "    # Initialize a matrix to track synchronization based on correlation peaks\n",
    "    synced_matrix = np.full(adj_matrix.shape, False)\n",
    "    for key in corr_peaks.keys():\n",
    "        if np.all(np.abs(np.array(corr_peaks[key]['delays'])) < 1/fs):\n",
    "            synced_matrix[key[0], key[1]] = True\n",
    "            synced_matrix[key[1], key[0]] = True\n",
    "\n",
    "    # Create the filtered matrix as per the given logic\n",
    "    filtered_matrix = np.logical_and(adj_matrix, np.logical_not(synced_matrix))\n",
    "\n",
    "    return filtered_matrix"
   ]
  },
  {
   "cell_type": "markdown",
   "id": "8bc4be60-8a83-4f40-a0c6-145c5ffef722",
   "metadata": {},
   "source": [
    "## Load Effective Connecivity Reconstruction (ECR) data from a pickle file\n",
    "### M07357"
   ]
  },
  {
   "cell_type": "code",
   "execution_count": 7,
   "id": "5a7e7d96-e49d-4841-8163-54ac8665081f",
   "metadata": {},
   "outputs": [
    {
     "name": "stdout",
     "output_type": "stream",
     "text": [
      "{'win_dur': 'None', 'win_overlap_dur': 0}\n",
      "Processing file: /Network/000389/data.raw_20250829_10h42m.pkl, Well: well000, Num of edges: 12714, Num of nodes: 567\n",
      "Processing file: /Network/000389/data.raw_20250829_10h42m.pkl, Well: well001, Num of edges: 147179, Num of nodes: 1008\n",
      "Processing file: /Network/000389/data.raw_20250829_10h42m.pkl, Well: well002, Num of edges: 39943, Num of nodes: 976\n",
      "Processing file: /Network/000389/data.raw_20250829_10h42m.pkl, Well: well003, Num of edges: 89470, Num of nodes: 992\n",
      "Processing file: /Network/000389/data.raw_20250829_10h42m.pkl, Well: well004, Num of edges: 96501, Num of nodes: 995\n",
      "Processing file: /Network/000389/data.raw_20250829_10h42m.pkl, Well: well005, Num of edges: 522, Num of nodes: 167\n",
      "{'win_dur': 'None', 'win_overlap_dur': 0}\n",
      "Processing file: /Network/000145/data.raw_20250829_10h42m.pkl, Well: well000, Num of edges: 6479, Num of nodes: 846\n",
      "Processing file: /Network/000145/data.raw_20250829_10h42m.pkl, Well: well001, Num of edges: 139128, Num of nodes: 1018\n",
      "Processing file: /Network/000145/data.raw_20250829_10h42m.pkl, Well: well002, Num of edges: 128978, Num of nodes: 1003\n",
      "Processing file: /Network/000145/data.raw_20250829_10h42m.pkl, Well: well003, Num of edges: 144990, Num of nodes: 1011\n",
      "Processing file: /Network/000145/data.raw_20250829_10h42m.pkl, Well: well004, Num of edges: 112622, Num of nodes: 1014\n",
      "Processing file: /Network/000145/data.raw_20250829_10h42m.pkl, Well: well005, Num of edges: 0, Num of nodes: 147\n",
      "{'win_dur': 'None', 'win_overlap_dur': 0}\n",
      "Well well000 not found in file: /Network/000143/data.raw_20250829_10h42m.pkl\n",
      "Processing file: /Network/000143/data.raw_20250829_10h42m.pkl, Well: well001, Num of edges: 138547, Num of nodes: 1018\n",
      "Processing file: /Network/000143/data.raw_20250829_10h42m.pkl, Well: well002, Num of edges: 124870, Num of nodes: 1009\n",
      "Processing file: /Network/000143/data.raw_20250829_10h42m.pkl, Well: well003, Num of edges: 134496, Num of nodes: 1013\n",
      "Processing file: /Network/000143/data.raw_20250829_10h42m.pkl, Well: well004, Num of edges: 98916, Num of nodes: 1014\n",
      "Processing file: /Network/000143/data.raw_20250829_10h42m.pkl, Well: well005, Num of edges: 3666, Num of nodes: 528\n"
     ]
    }
   ],
   "source": [
    "## no filter \n",
    "\n",
    "for i in range(len(filenames)):\n",
    "    with open(filenames[i], 'rb') as f:\n",
    "        data = pkl.load(f)\n",
    "        print(data['config']['windows'])\n",
    "    for well in ['well000', 'well001', 'well002',  'well003' , 'well004' , 'well005']:\n",
    "        if well in data:\n",
    "            #adj = filter_matrix_TC(data, well)\n",
    "            adj = data[well]['win_0']['adj_matrix_predicted']\n",
    "            print(f\"Processing file: {filenames[i][n_chars:]}, Well: {well}, Num of edges: {sum(sum(adj))}, Num of nodes: {adj.shape[0]}\")\n",
    "        else:\n",
    "            print(f\"Well {well} not found in file: {filenames[i][n_chars:]}\")"
   ]
  },
  {
   "cell_type": "code",
   "execution_count": 14,
   "id": "be8faa32",
   "metadata": {},
   "outputs": [
    {
     "data": {
      "text/plain": [
       "'/cis/project/organoid/Aug_25_2025_Mo7357_ecr_results_no_window/Network/000143/data.raw_20250827_21h29m.pkl'"
      ]
     },
     "execution_count": 14,
     "metadata": {},
     "output_type": "execute_result"
    }
   ],
   "source": [
    "filenames[1]"
   ]
  },
  {
   "cell_type": "code",
   "execution_count": 8,
   "id": "ac02aec8",
   "metadata": {},
   "outputs": [
    {
     "data": {
      "text/plain": [
       "{'paths': {'source_files': '/cis/project/organoid/Aug_25_2025_Mo7357',\n",
       "  'results': '/cis/project/organoid/Aug_29_2025_Mo7357_ecr_results_no_window_para2'},\n",
       " 'data': {'fs': 10000,\n",
       "  'spike_amp_thresh_percentile': 5,\n",
       "  'corr_amp_thresh_percentile': None,\n",
       "  'corr_amp_thresh_std': 1},\n",
       " 'windows': {'win_dur': 'None', 'win_overlap_dur': 0},\n",
       " 'super_sel': {'recompute': False,\n",
       "  'adj_threshold': 0.75,\n",
       "  'raster_dur': 0.0005,\n",
       "  'corr_type': 'cc',\n",
       "  'n_corr_peaks_max': 4,\n",
       "  'epsilon': 0.003,\n",
       "  'T_list': [0.0225, 0.02, 0.0175, 0.016],\n",
       "  'sigma_list': [0.0004, 0.00055, 0.0007]}}"
      ]
     },
     "execution_count": 8,
     "metadata": {},
     "output_type": "execute_result"
    }
   ],
   "source": [
    "data['config']"
   ]
  },
  {
   "cell_type": "code",
   "execution_count": 9,
   "id": "fdfaef0d",
   "metadata": {},
   "outputs": [
    {
     "name": "stdout",
     "output_type": "stream",
     "text": [
      "{'win_dur': 'None', 'win_overlap_dur': 0}\n",
      "Processing file: /Network/000389/data.raw_20250829_10h42m.pkl, Well: well000, Num of edges: 9764, Num of nodes: 567\n",
      "Processing file: /Network/000389/data.raw_20250829_10h42m.pkl, Well: well001, Num of edges: 71845, Num of nodes: 1008\n",
      "Processing file: /Network/000389/data.raw_20250829_10h42m.pkl, Well: well002, Num of edges: 22393, Num of nodes: 976\n",
      "Processing file: /Network/000389/data.raw_20250829_10h42m.pkl, Well: well003, Num of edges: 42029, Num of nodes: 992\n",
      "Processing file: /Network/000389/data.raw_20250829_10h42m.pkl, Well: well004, Num of edges: 51234, Num of nodes: 995\n",
      "Processing file: /Network/000389/data.raw_20250829_10h42m.pkl, Well: well005, Num of edges: 43, Num of nodes: 167\n",
      "{'win_dur': 'None', 'win_overlap_dur': 0}\n",
      "Processing file: /Network/000145/data.raw_20250829_10h42m.pkl, Well: well000, Num of edges: 6443, Num of nodes: 846\n",
      "Processing file: /Network/000145/data.raw_20250829_10h42m.pkl, Well: well001, Num of edges: 138509, Num of nodes: 1018\n",
      "Processing file: /Network/000145/data.raw_20250829_10h42m.pkl, Well: well002, Num of edges: 128359, Num of nodes: 1003\n",
      "Processing file: /Network/000145/data.raw_20250829_10h42m.pkl, Well: well003, Num of edges: 144519, Num of nodes: 1011\n",
      "Processing file: /Network/000145/data.raw_20250829_10h42m.pkl, Well: well004, Num of edges: 112310, Num of nodes: 1014\n",
      "Processing file: /Network/000145/data.raw_20250829_10h42m.pkl, Well: well005, Num of edges: 0, Num of nodes: 147\n"
     ]
    },
    {
     "name": "stderr",
     "output_type": "stream",
     "text": [
      "Exception ignored in: <bound method IPythonKernel._clean_thread_parent_frames of <ipykernel.ipkernel.IPythonKernel object at 0x7f31fd5c69e0>>\n",
      "Traceback (most recent call last):\n",
      "  File \"/cis/home/tchen94/anaconda3/envs/oi_ecr/lib/python3.10/site-packages/ipykernel/ipkernel.py\", line 775, in _clean_thread_parent_frames\n",
      "    def _clean_thread_parent_frames(\n",
      "KeyboardInterrupt: \n"
     ]
    },
    {
     "name": "stdout",
     "output_type": "stream",
     "text": [
      "{'win_dur': 'None', 'win_overlap_dur': 0}\n",
      "Well well000 not found in file: /Network/000143/data.raw_20250829_10h42m.pkl\n",
      "Processing file: /Network/000143/data.raw_20250829_10h42m.pkl, Well: well001, Num of edges: 137468, Num of nodes: 1018\n",
      "Processing file: /Network/000143/data.raw_20250829_10h42m.pkl, Well: well002, Num of edges: 123623, Num of nodes: 1009\n",
      "Processing file: /Network/000143/data.raw_20250829_10h42m.pkl, Well: well003, Num of edges: 134135, Num of nodes: 1013\n",
      "Processing file: /Network/000143/data.raw_20250829_10h42m.pkl, Well: well004, Num of edges: 97758, Num of nodes: 1014\n",
      "Processing file: /Network/000143/data.raw_20250829_10h42m.pkl, Well: well005, Num of edges: 2443, Num of nodes: 528\n"
     ]
    }
   ],
   "source": [
    "## filtered \n",
    "for i in range(len(filenames)):\n",
    "    with open(filenames[i], 'rb') as f:\n",
    "        data = pkl.load(f)\n",
    "        print(data['config']['windows'])\n",
    "    for well in ['well000', 'well001', 'well002',  'well003' , 'well004' , 'well005']:\n",
    "        if well in data:\n",
    "            adj = filter_matrix_TC(data, well)\n",
    "            #adj = data[well]['win_0']['adj_matrix_predicted']\n",
    "            print(f\"Processing file: {filenames[i][n_chars:]}, Well: {well}, Num of edges: {sum(sum(adj))}, Num of nodes: {adj.shape[0]}\")\n",
    "        else:\n",
    "            print(f\"Well {well} not found in file: {filenames[i][n_chars:]}\")"
   ]
  },
  {
   "cell_type": "code",
   "execution_count": 10,
   "id": "e3bf8e41",
   "metadata": {},
   "outputs": [
    {
     "name": "stdout",
     "output_type": "stream",
     "text": [
      "Processing file 1/3: /cis/project/organoid/Aug_29_2025_Mo7357_ecr_results_no_window_para2/Network/000389/data.raw_20250829_10h42m.pkl\n",
      "  Processing well 1/6: well000\n",
      "  Processing well 2/6: well001\n",
      "  Processing well 3/6: well002\n",
      "  Processing well 4/6: well003\n",
      "  Processing well 5/6: well004\n",
      "  Processing well 6/6: well005\n",
      "Processing file 2/3: /cis/project/organoid/Aug_29_2025_Mo7357_ecr_results_no_window_para2/Network/000145/data.raw_20250829_10h42m.pkl\n",
      "  Processing well 1/6: well000\n",
      "  Processing well 2/6: well001\n",
      "  Processing well 3/6: well002\n",
      "  Processing well 4/6: well003\n",
      "  Processing well 5/6: well004\n",
      "  Processing well 6/6: well005\n",
      "Processing file 3/3: /cis/project/organoid/Aug_29_2025_Mo7357_ecr_results_no_window_para2/Network/000143/data.raw_20250829_10h42m.pkl\n",
      "  Processing well 2/6: well001\n",
      "  Processing well 3/6: well002\n",
      "  Processing well 4/6: well003\n",
      "  Processing well 5/6: well004\n",
      "  Processing well 6/6: well005\n"
     ]
    }
   ],
   "source": [
    "# Define the output directory\n",
    "#output_path = \"/cis/home/tchen94/tianyi/Organoid/Raw_data_processing/adjacency_edges_Aug_28_2025_M07357.csv\"\n",
    "#output_path = \"/cis/home/tchen94/tianyi/Organoid/Raw_data_processing/adjacency_edges_Aug_29_2025_M07357_try2.csv\"\n",
    "output_path = \"/cis/home/tchen94/tianyi/Organoid/Raw_data_processing/adjacency_edges_Sep_1_2025_M07357_para2.csv\"\n",
    "\n",
    "# Initialize a list to store the edge data\n",
    "edge_data_list = []\n",
    "\n",
    "# Iterate through all files\n",
    "for file_idx, filename in enumerate(filenames):\n",
    "    print(f\"Processing file {file_idx + 1}/{len(filenames)}: {filename}\")\n",
    "    with open(filename, 'rb') as f:\n",
    "        data = pkl.load(f)\n",
    "    \n",
    "    # Process each well\n",
    "    for well_idx, well in enumerate(['well000', 'well001', 'well002', 'well003', 'well004', 'well005']):\n",
    "        if well in data:\n",
    "            # Log well progress\n",
    "            print(f\"  Processing well {well_idx + 1}/6: {well}\")\n",
    "            # Get the adjacency matrix\n",
    "            adj = filter_matrix_TC(data, well)  # Assumes adj is a NumPy array of True/False\n",
    "            \n",
    "            # Find row and column indices where adj is True\n",
    "            rows, cols = adj.nonzero()  # Directly use the nonzero indices\n",
    "            \n",
    "            # Record the edges\n",
    "            for row, col in zip(rows, cols):\n",
    "                edge_data_list.append({\n",
    "                    \"File\": filename,\n",
    "                    \"Well\": well,\n",
    "                    \"Row\": row,\n",
    "                    \"Column\": col,\n",
    "                    \"dim\": adj.shape[0]\n",
    "                })"
   ]
  },
  {
   "cell_type": "code",
   "execution_count": 11,
   "id": "e9410569",
   "metadata": {},
   "outputs": [
    {
     "name": "stdout",
     "output_type": "stream",
     "text": [
      "Edge data successfully saved to /cis/home/tchen94/tianyi/Organoid/Raw_data_processing/adjacency_edges_Sep_1_2025_M07357_para2.csv\n"
     ]
    }
   ],
   "source": [
    "# Convert the edge data to a DataFrame\n",
    "edge_df = pd.DataFrame(edge_data_list)\n",
    "\n",
    "# Save the DataFrame as a CSV file\n",
    "edge_df.to_csv(output_path, index=False)\n",
    "\n",
    "print(f\"Edge data successfully saved to {output_path}\")"
   ]
  },
  {
   "cell_type": "markdown",
   "id": "27a43dd2",
   "metadata": {},
   "source": [
    "## Stop here"
   ]
  },
  {
   "cell_type": "code",
   "execution_count": 7,
   "id": "35c18709",
   "metadata": {},
   "outputs": [
    {
     "name": "stdout",
     "output_type": "stream",
     "text": [
      "Processing file 1/12: /cis/project/organoid/Dec_29_2024_ecr_results/M07915/Stimulation/000295/data.raw_20241213_18h15m.pkl\n",
      "Processing file 2/12: /cis/project/organoid/Dec_29_2024_ecr_results/M07915/Stimulation/000291/data.raw_20241213_18h15m.pkl\n",
      "Processing file 3/12: /cis/project/organoid/Dec_29_2024_ecr_results/M07915/Network/000296/data.raw_20241213_18h15m.pkl\n",
      "Processing file 4/12: /cis/project/organoid/Dec_29_2024_ecr_results/M07915/Network/000293/data.raw_20241213_18h15m.pkl\n",
      "Processing file 5/12: /cis/project/organoid/Dec_29_2024_ecr_results/M07915/Network/000290/data.raw_20241213_18h15m.pkl\n",
      "Processing file 6/12: /cis/project/organoid/Dec_29_2024_ecr_results/M07915/ActivityScan/000289/data.raw_20241213_18h15m.pkl\n",
      "Processing file 7/12: /cis/project/organoid/Dec_29_2024_ecr_results/M07914/Stimulation/000301/data.raw_20241213_18h15m.pkl\n",
      "Processing file 8/12: /cis/project/organoid/Dec_29_2024_ecr_results/M07914/Stimulation/000299/data.raw_20241213_18h15m.pkl\n",
      "Processing file 9/12: /cis/project/organoid/Dec_29_2024_ecr_results/M07914/Network/000302/data.raw_20241213_18h15m.pkl\n",
      "Processing file 10/12: /cis/project/organoid/Dec_29_2024_ecr_results/M07914/Network/000300/data.raw_20241213_18h15m.pkl\n",
      "Processing file 11/12: /cis/project/organoid/Dec_29_2024_ecr_results/M07914/Network/000298/data.raw_20241213_18h15m.pkl\n",
      "Processing file 12/12: /cis/project/organoid/Dec_29_2024_ecr_results/M07914/ActivityScan/000297/data.raw_20241213_18h15m.pkl\n",
      "Dimension table successfully saved to /cis/home/tchen94/tianyi/Organoid/Raw_data_processing/matrix_dimensions.csv\n"
     ]
    }
   ],
   "source": [
    "\n",
    "# Define the output file path for the dimensions table\n",
    "output_path = \"/cis/home/tchen94/tianyi/Organoid/Raw_data_processing/matrix_dimensions.csv\"\n",
    "\n",
    "# Initialize a list to store the dimension data\n",
    "dimension_data_list = []\n",
    "\n",
    "# Iterate through all files\n",
    "for file_idx, filename in enumerate(filenames):\n",
    "    print(f\"Processing file {file_idx + 1}/{len(filenames)}: {filename}\")\n",
    "    with open(filename, 'rb') as f:\n",
    "        data = pkl.load(f)\n",
    "    \n",
    "    # Process each well\n",
    "    for well in ['well000', 'well001', 'well002', 'well003', 'well004', 'well005']:\n",
    "        if well in data:\n",
    "            # Get the adjacency matrix\n",
    "            adj = filter_matrix_TC(data, well)  # Assumes adj is a NumPy array\n",
    "            \n",
    "            # Record the dimensions of the matrix\n",
    "            n_rows, n_cols = adj.shape\n",
    "            dimension_data_list.append({\n",
    "                \"File\": filename,\n",
    "                \"Well\": well,\n",
    "                \"Row_dim\": n_rows,\n",
    "                \"Column_dim\": n_cols\n",
    "            })\n",
    "\n",
    "# Convert the dimension data to a DataFrame\n",
    "dimension_df = pd.DataFrame(dimension_data_list)\n",
    "\n",
    "# Save the DataFrame as a CSV file\n",
    "dimension_df.to_csv(output_path, index=False)\n",
    "\n",
    "print(f\"Dimension table successfully saved to {output_path}\")"
   ]
  },
  {
   "cell_type": "markdown",
   "id": "898dee31-5fcc-41ad-b4b9-3e0063720d5a",
   "metadata": {},
   "source": [
    "## Show some of the keys in the hierarchical dictionary"
   ]
  },
  {
   "cell_type": "code",
   "execution_count": 56,
   "id": "3f8432ad-3442-4846-8c44-236137c988ad",
   "metadata": {},
   "outputs": [
    {
     "name": "stdout",
     "output_type": "stream",
     "text": [
      "dict_keys(['source_filename', 'config', 'well000', 'well001', 'well002', 'well003', 'well004', 'well005'])\n",
      "dict_keys(['spike_amp_thresh', 'channel_numbers', 'channel_spikes_per_sec', 'win_0'])\n",
      "dict_keys(['adj_matrix_predicted', 'votes', 'corr_peaks'])\n"
     ]
    }
   ],
   "source": [
    "print(data.keys())\n",
    "print(data['well000'].keys())\n",
    "print(data['well000']['win_0'].keys())"
   ]
  },
  {
   "cell_type": "markdown",
   "id": "1f07d8be-ee86-4d9c-850c-be91efc721dd",
   "metadata": {},
   "source": [
    "## View time periods over which ECR matrices were computed\n",
    "\n",
    "Duration of windows and their overlap is given in the 'config' section of the data dict. If the window duration is `None` then the full duration of the recording was used to compute connectivity over a single \"window.\""
   ]
  },
  {
   "cell_type": "code",
   "execution_count": 28,
   "id": "6440b226-ca31-4caa-b129-aea85a04e2ae",
   "metadata": {},
   "outputs": [
    {
     "name": "stdout",
     "output_type": "stream",
     "text": [
      "{'win_dur': 'None', 'win_overlap_dur': 0}\n"
     ]
    }
   ],
   "source": [
    "print(data['config']['windows'])"
   ]
  },
  {
   "cell_type": "markdown",
   "id": "fdaf3edc-12de-4a03-9070-cbe5a97a7a00",
   "metadata": {},
   "source": [
    "## Data description\n",
    "\n",
    "For each well (organoid) and time window, there are three key/value pairs. For matrix values, the first dimension is the ID of the presynaptic neuron and the second dimension is that of the postsynaptic neuron.\n",
    "\n",
    "1. `votes`: The votes matrix. votes[i, j] is the fraction of trials in which a directed connection was predicted to exist from neuron i to neuron j.\n",
    "2. `adj_matrix_predicted`: The predicted adjacency matrix. This is a Boolean matrix where adj_matrix_predicted[i, j]==True indicates that votes[i, j]==1.\n",
    "3. `corr_peaks`: corr_peaks is a dict with keys of the form (i, j). corr_peaks[(i, j)] is a dict with lists `amplitudes` and `delays` that indicate the correlation peaks between neuron i and neuron j.\n",
    "\n",
    "__Note:__ Neurons pairs linked only by correlation peaks with delays lower than t_res (the raw recording's sampling resolution) may actually be simultaneously stimulated by some common/global source, rather than casually linked. It may be desirable to remove such connections, as demonstrated in the code below."
   ]
  },
  {
   "cell_type": "markdown",
   "id": "173c21f9-3837-450b-b6c0-ca795d6dc0e3",
   "metadata": {},
   "source": [
    "## View an uncorrected adjacency matrix"
   ]
  },
  {
   "cell_type": "code",
   "execution_count": 29,
   "id": "001880f4-f20a-41f3-82cf-37efe10bfd70",
   "metadata": {},
   "outputs": [
    {
     "data": {
      "image/png": "[encoded data removed]",
      "text/plain": [
       "<Figure size 800x800 with 1 Axes>"
      ]
     },
     "metadata": {},
     "output_type": "display_data"
    }
   ],
   "source": [
    "well = 'well001'\n",
    "win = 'win_0'\n",
    "\n",
    "adj_matrix = data[well][win]['adj_matrix_predicted']\n",
    "votes = data[well][win]['votes']\n",
    "corr_peaks = data[well][win]['corr_peaks']\n",
    "\n",
    "fontsize = 12\n",
    "plt.figure(figsize=(8, 8))\n",
    "plt.imshow(adj_matrix, interpolation='nearest')\n",
    "plt.title('Uncorrected adjacency matrix', fontsize=fontsize)\n",
    "plt.ylabel('Presynaptic neuron', fontsize=fontsize)\n",
    "_ = plt.xlabel('Postsynaptic neuron', fontsize=fontsize)"
   ]
  },
  {
   "cell_type": "markdown",
   "id": "9cda141f-f9d3-4bb8-85e1-0bec5f513b17",
   "metadata": {},
   "source": [
    "## View a \"corrected\" adjacency matrix\n",
    "\n",
    "Putative connections that are likely be due to a common or global source rather than causal from neuron to neuron, or removed."
   ]
  },
  {
   "cell_type": "code",
   "execution_count": 30,
   "id": "04f7219c-e9d9-4afa-8d51-e539f98a4369",
   "metadata": {},
   "outputs": [
    {
     "data": {
      "image/png": "[encoded data removed]",
      "text/plain": [
       "<Figure size 1800x800 with 2 Axes>"
      ]
     },
     "metadata": {},
     "output_type": "display_data"
    }
   ],
   "source": [
    "# Neurons pairs linked only by correlation peak delays lower than t_res may actually\n",
    "# be simultaneously stimulated by some common/global source, rather than casually linked.\n",
    "# We can identify those pairs and remove their link from the adjacency matrix if we'd like to.\n",
    "synced_matrix = np.full(adj_matrix.shape, False)\n",
    "for key in corr_peaks.keys():\n",
    "    if np.all(np.abs(np.array(corr_peaks[key]['delays'])) < 1/data['config']['data']['fs']):\n",
    "        synced_matrix[key[0], key[1]] = True\n",
    "        synced_matrix[key[1], key[0]] = True\n",
    "filtered_matrix = np.logical_and(data[well][win]['adj_matrix_predicted'], np.logical_not(synced_matrix))\n",
    "\n",
    "plt.figure(figsize=(18, 8))\n",
    "plt.subplot(1, 2, 1)\n",
    "plt.imshow(synced_matrix, interpolation='nearest')\n",
    "plt.title('Matrix of putative incorrect connections', fontsize=fontsize)\n",
    "plt.ylabel('Presynaptic neuron', fontsize=fontsize)\n",
    "plt.xlabel('Postsynaptic neuron', fontsize=fontsize)\n",
    "\n",
    "plt.subplot(1, 2, 2)\n",
    "plt.imshow(filtered_matrix, interpolation='nearest')\n",
    "plt.title('Corrected adjacency matrix', fontsize=fontsize)\n",
    "plt.ylabel('Presynaptic neuron', fontsize=fontsize)\n",
    "_ = plt.xlabel('Postsynaptic neuron', fontsize=fontsize)"
   ]
  },
  {
   "cell_type": "markdown",
   "id": "9394f2d7-6354-497c-b777-9278f108ed98",
   "metadata": {},
   "source": [
    "# View a \"corrected\" adjacency matrix in which unconnected neurons are moved from the matrix"
   ]
  },
  {
   "cell_type": "code",
   "execution_count": 19,
   "id": "6e764624-cc37-4d11-999a-bfd6dccadc76",
   "metadata": {},
   "outputs": [
    {
     "data": {
      "image/png": "[encoded data removed]",
      "text/plain": [
       "<Figure size 800x800 with 1 Axes>"
      ]
     },
     "metadata": {},
     "output_type": "display_data"
    }
   ],
   "source": [
    "# Finally, let's remove the neurons that have no connections, and remove them.\n",
    "ix_connected_col = np.argwhere(np.any(filtered_matrix>0, axis=0))[:, 0]\n",
    "ix_connected_row = np.argwhere(np.any(filtered_matrix>0, axis=1))[:, 0]\n",
    "ix_connected = np.union1d(ix_connected_col, ix_connected_row)\n",
    "plt.figure(figsize=(8, 8))\n",
    "plt.imshow(filtered_matrix[ix_connected][:, ix_connected], interpolation='nearest')\n",
    "plt.title('Corrected adjacency matrix, excluding unconnected neurons', fontsize=fontsize)\n",
    "plt.ylabel('Presynaptic neuron', fontsize=fontsize)\n",
    "_ = plt.xlabel('Postsynaptic neuron', fontsize=fontsize)"
   ]
  },
  {
   "cell_type": "code",
   "execution_count": null,
   "id": "bb11cdb0-400a-4f9a-8020-f8e02dfb4b24",
   "metadata": {},
   "outputs": [],
   "source": []
  }
 ],
 "metadata": {
  "kernelspec": {
   "display_name": "oi_ecr",
   "language": "python",
   "name": "python3"
  },
  "language_info": {
   "codemirror_mode": {
    "name": "ipython",
    "version": 3
   },
   "file_extension": ".py",
   "mimetype": "text/x-python",
   "name": "python",
   "nbconvert_exporter": "python",
   "pygments_lexer": "ipython3",
   "version": "3.10.15"
  }
 },
 "nbformat": 4,
 "nbformat_minor": 5
}
